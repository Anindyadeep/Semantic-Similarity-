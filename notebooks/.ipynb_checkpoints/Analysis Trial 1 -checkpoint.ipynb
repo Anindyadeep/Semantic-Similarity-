{
 "cells": [
  {
   "cell_type": "code",
   "execution_count": 1,
   "id": "5b6b7789",
   "metadata": {},
   "outputs": [],
   "source": [
    "import os \n",
    "import numpy as np\n",
    "import pandas as pd \n",
    "import seaborn as sns\n",
    "import matplotlib.pyplot as plt"
   ]
  },
  {
   "cell_type": "code",
   "execution_count": 2,
   "id": "330a3860",
   "metadata": {},
   "outputs": [],
   "source": [
    "pal = sns.color_palette()"
   ]
  },
  {
   "cell_type": "code",
   "execution_count": 3,
   "id": "5b1359ec",
   "metadata": {},
   "outputs": [],
   "source": [
    "train_data = pd.read_csv('../Data/train.csv')\n",
    "evaluation_data = pd.read_csv('../Data/evaluation.csv')"
   ]
  },
  {
   "cell_type": "code",
   "execution_count": 4,
   "id": "33a23827",
   "metadata": {},
   "outputs": [
    {
     "name": "stdout",
     "output_type": "stream",
     "text": [
      "=> Train Data:\n"
     ]
    },
    {
     "data": {
      "text/html": [
       "<div>\n",
       "<style scoped>\n",
       "    .dataframe tbody tr th:only-of-type {\n",
       "        vertical-align: middle;\n",
       "    }\n",
       "\n",
       "    .dataframe tbody tr th {\n",
       "        vertical-align: top;\n",
       "    }\n",
       "\n",
       "    .dataframe thead th {\n",
       "        text-align: right;\n",
       "    }\n",
       "</style>\n",
       "<table border=\"1\" class=\"dataframe\">\n",
       "  <thead>\n",
       "    <tr style=\"text-align: right;\">\n",
       "      <th></th>\n",
       "      <th>text</th>\n",
       "      <th>reason</th>\n",
       "      <th>label</th>\n",
       "    </tr>\n",
       "  </thead>\n",
       "  <tbody>\n",
       "    <tr>\n",
       "      <th>0</th>\n",
       "      <td>this is an amazing app for online classes!but</td>\n",
       "      <td>good app for conducting online classes</td>\n",
       "      <td>1</td>\n",
       "    </tr>\n",
       "    <tr>\n",
       "      <th>1</th>\n",
       "      <td>very practical and easy to use</td>\n",
       "      <td>app is user-friendly</td>\n",
       "      <td>1</td>\n",
       "    </tr>\n",
       "    <tr>\n",
       "      <th>2</th>\n",
       "      <td>this app is very good for video conferencing.</td>\n",
       "      <td>good for video conferencing</td>\n",
       "      <td>1</td>\n",
       "    </tr>\n",
       "    <tr>\n",
       "      <th>3</th>\n",
       "      <td>i can not download this zoom app</td>\n",
       "      <td>unable to download zoom app</td>\n",
       "      <td>1</td>\n",
       "    </tr>\n",
       "    <tr>\n",
       "      <th>4</th>\n",
       "      <td>i am not able to download this app</td>\n",
       "      <td>want to download the app</td>\n",
       "      <td>1</td>\n",
       "    </tr>\n",
       "  </tbody>\n",
       "</table>\n",
       "</div>"
      ],
      "text/plain": [
       "                                            text  \\\n",
       "0  this is an amazing app for online classes!but   \n",
       "1                 very practical and easy to use   \n",
       "2  this app is very good for video conferencing.   \n",
       "3               i can not download this zoom app   \n",
       "4             i am not able to download this app   \n",
       "\n",
       "                                   reason  label  \n",
       "0  good app for conducting online classes      1  \n",
       "1                    app is user-friendly      1  \n",
       "2             good for video conferencing      1  \n",
       "3             unable to download zoom app      1  \n",
       "4                want to download the app      1  "
      ]
     },
     "execution_count": 4,
     "metadata": {},
     "output_type": "execute_result"
    }
   ],
   "source": [
    "print(\"=> Train Data:\")\n",
    "train_data.head()"
   ]
  },
  {
   "cell_type": "code",
   "execution_count": 5,
   "id": "361f7916",
   "metadata": {},
   "outputs": [
    {
     "name": "stdout",
     "output_type": "stream",
     "text": [
      "=> Evaluation Data:\n"
     ]
    },
    {
     "data": {
      "text/html": [
       "<div>\n",
       "<style scoped>\n",
       "    .dataframe tbody tr th:only-of-type {\n",
       "        vertical-align: middle;\n",
       "    }\n",
       "\n",
       "    .dataframe tbody tr th {\n",
       "        vertical-align: top;\n",
       "    }\n",
       "\n",
       "    .dataframe thead th {\n",
       "        text-align: right;\n",
       "    }\n",
       "</style>\n",
       "<table border=\"1\" class=\"dataframe\">\n",
       "  <thead>\n",
       "    <tr style=\"text-align: right;\">\n",
       "      <th></th>\n",
       "      <th>text</th>\n",
       "      <th>reason</th>\n",
       "      <th>label</th>\n",
       "    </tr>\n",
       "  </thead>\n",
       "  <tbody>\n",
       "    <tr>\n",
       "      <th>0</th>\n",
       "      <td>the app is crashing when i play a vedio</td>\n",
       "      <td>app crashes during playback</td>\n",
       "      <td>1</td>\n",
       "    </tr>\n",
       "    <tr>\n",
       "      <th>1</th>\n",
       "      <td>but i want to connect it to the tv from one de...</td>\n",
       "      <td>want compatibility with more smart televisions</td>\n",
       "      <td>0</td>\n",
       "    </tr>\n",
       "    <tr>\n",
       "      <th>2</th>\n",
       "      <td>very helpful when and home working remotley</td>\n",
       "      <td>good app for work</td>\n",
       "      <td>0</td>\n",
       "    </tr>\n",
       "    <tr>\n",
       "      <th>3</th>\n",
       "      <td>this zoom so called and missed call and mobile...</td>\n",
       "      <td>receiving incorrect phone number message</td>\n",
       "      <td>0</td>\n",
       "    </tr>\n",
       "    <tr>\n",
       "      <th>4</th>\n",
       "      <td>one of my favorite apps</td>\n",
       "      <td>good for spending time</td>\n",
       "      <td>0</td>\n",
       "    </tr>\n",
       "  </tbody>\n",
       "</table>\n",
       "</div>"
      ],
      "text/plain": [
       "                                                text  \\\n",
       "0            the app is crashing when i play a vedio   \n",
       "1  but i want to connect it to the tv from one de...   \n",
       "2        very helpful when and home working remotley   \n",
       "3  this zoom so called and missed call and mobile...   \n",
       "4                            one of my favorite apps   \n",
       "\n",
       "                                           reason  label  \n",
       "0                     app crashes during playback      1  \n",
       "1  want compatibility with more smart televisions      0  \n",
       "2                               good app for work      0  \n",
       "3        receiving incorrect phone number message      0  \n",
       "4                          good for spending time      0  "
      ]
     },
     "execution_count": 5,
     "metadata": {},
     "output_type": "execute_result"
    }
   ],
   "source": [
    "print(\"=> Evaluation Data:\")\n",
    "evaluation_data.head()"
   ]
  },
  {
   "cell_type": "markdown",
   "id": "9dc672c6",
   "metadata": {},
   "source": [
    "## **Dataset information**\n",
    "\n",
    "- The CSV files have 3 columns\n",
    "    - text\n",
    "    - reason: a short description\n",
    "    - label:\n",
    "        - 0: text and reason **do not** match with each other\n",
    "        - 1: text and reason match with each other\n",
    "- The dataset has been cleaned to a certain extent. You can probe more."
   ]
  },
  {
   "cell_type": "markdown",
   "id": "6dfe996a",
   "metadata": {},
   "source": [
    "### Some Notes\n",
    "\n",
    "- All the examples are positive examples, which means we need to generate some negative examples such that the \n",
    "the distribution of +ve/-ve remains same. \n",
    "\n",
    "- Further cleaning of the text and checking duplicates. "
   ]
  },
  {
   "cell_type": "code",
   "execution_count": 6,
   "id": "9e1f11da",
   "metadata": {},
   "outputs": [
    {
     "data": {
      "text/html": [
       "<div>\n",
       "<style scoped>\n",
       "    .dataframe tbody tr th:only-of-type {\n",
       "        vertical-align: middle;\n",
       "    }\n",
       "\n",
       "    .dataframe tbody tr th {\n",
       "        vertical-align: top;\n",
       "    }\n",
       "\n",
       "    .dataframe thead th {\n",
       "        text-align: right;\n",
       "    }\n",
       "</style>\n",
       "<table border=\"1\" class=\"dataframe\">\n",
       "  <thead>\n",
       "    <tr style=\"text-align: right;\">\n",
       "      <th></th>\n",
       "      <th>text</th>\n",
       "      <th>reason</th>\n",
       "      <th>label</th>\n",
       "    </tr>\n",
       "  </thead>\n",
       "  <tbody>\n",
       "  </tbody>\n",
       "</table>\n",
       "</div>"
      ],
      "text/plain": [
       "Empty DataFrame\n",
       "Columns: [text, reason, label]\n",
       "Index: []"
      ]
     },
     "execution_count": 6,
     "metadata": {},
     "output_type": "execute_result"
    }
   ],
   "source": [
    "# Finding duplicates \n",
    "\n",
    "duplicates = train_data[train_data.duplicated()]\n",
    "duplicates"
   ]
  },
  {
   "cell_type": "markdown",
   "id": "3dda245e",
   "metadata": {},
   "source": [
    "We can Assume that there are no duplicates present in our data. "
   ]
  },
  {
   "cell_type": "markdown",
   "id": "ffc791a1",
   "metadata": {},
   "source": [
    "### General overview of the overall procedure\n",
    "\n",
    "- The type of problem is a **Binary Classification problem**\n",
    "\n",
    "\n",
    "- I will start to see the **textual distribution similarity** between train and test set. This is important to check and predict whether our model will work perfectly during Testing or not. We will do this by checking:\n",
    "    - Character level distribution check \n",
    "    - Word level distribution check \n",
    "\n",
    "- Next we will move forward for some scemantic analysis for feature analysis. \n",
    "\n",
    "\n",
    "- Then we come to an important part which is building the actual dataset. The main focussing point of this whole task is to introduce negative samples. Otherwise the existing dataset will not make sense. We can solve this problem in two-three potential ways:\n",
    "\n",
    "    - Suppose we have rows 1,2,3 all with label 1. Now we put the \"reason\" of row 3 to row 1, row 1 to row 2 and so on, to sample negative samples. This approach might be a great starter, but might not be accurate. \n",
    "    \n",
    "    - In the 2nd approach we can do the same thing as 1, but instead of random deterministic way. We first get the features of each questions and reason. Now for each question we sample the most distant/nearly distant feature vector for the \"reason\", so that the model can get better feature for classifying -ve samples. \n",
    "    \n",
    "    - Finally we can use a pre-trained BERT model for generating negative samples for a given question. [Ref from paper](https://aclanthology.org/2021.naacl-main.120.pdf)\n",
    "\n",
    "- Once we build our dataset, then we need to train our model for scemantic similarity. We can do this by using \n",
    "    - XG Boost \n",
    "    - A pretrained BERT \n",
    "    \n",
    "\n",
    "- Finally we are left to finetune more if possible and get our final results."
   ]
  },
  {
   "cell_type": "markdown",
   "id": "8edaf9ac",
   "metadata": {},
   "source": [
    "### Analysis\n",
    "\n",
    "#### Textual distribution similarity"
   ]
  },
  {
   "cell_type": "code",
   "execution_count": 7,
   "id": "f1a5dda7",
   "metadata": {},
   "outputs": [],
   "source": [
    "train_qna = pd.Series(\n",
    "    train_data['text'].tolist() + train_data['reason'].tolist()\n",
    ").astype(str)\n",
    "\n",
    "evaluation_qna = pd.Series(\n",
    "    evaluation_data['text'].tolist() + evaluation_data['reason'].tolist()\n",
    ").astype(str)"
   ]
  },
  {
   "cell_type": "code",
   "execution_count": 8,
   "id": "50b5db77",
   "metadata": {},
   "outputs": [],
   "source": [
    "def normalize_df(df):\n",
    "    return (df - df.min()) / (df.max() - df.min())"
   ]
  },
  {
   "cell_type": "code",
   "execution_count": 9,
   "id": "7f6a5661",
   "metadata": {},
   "outputs": [],
   "source": [
    "def plot_histogram(df, color, label, alpha=0.5):\n",
    "    x,y=[],[]\n",
    "    for index, element in df.items():\n",
    "        x.append(index)\n",
    "        y.append(element)\n",
    "    plt.plot(x, y, color=color, label=label, alpha=alpha)"
   ]
  },
  {
   "cell_type": "code",
   "execution_count": 10,
   "id": "3cd1a455",
   "metadata": {},
   "outputs": [],
   "source": [
    "train_dist = train_qna.apply(len)\n",
    "evaluation_dist = evaluation_qna.apply(len)"
   ]
  },
  {
   "cell_type": "code",
   "execution_count": 11,
   "id": "db3bf44a",
   "metadata": {
    "scrolled": false
   },
   "outputs": [
    {
     "data": {
      "text/plain": [
       "Text(0, 0.5, 'Probability')"
      ]
     },
     "execution_count": 11,
     "metadata": {},
     "output_type": "execute_result"
    },
    {
     "data": {
      "image/png": "[encoded data removed]",
      "text/plain": [
       "<Figure size 1500x500 with 1 Axes>"
      ]
     },
     "metadata": {},
     "output_type": "display_data"
    }
   ],
   "source": [
    "plt.figure(figsize=(15, 5))\n",
    "plt.hist(\n",
    "    train_dist, bins=200, range=[0, 200], color=pal[2], label='train',\n",
    ")\n",
    "\n",
    "plt.hist(\n",
    "    evaluation_dist, bins=200, range=[0, 200], color=pal[1], alpha=0.5, label='test'\n",
    ")\n",
    "\n",
    "plt.title('Character level normalised distribution for train and evaluation-qna')\n",
    "plt.legend()\n",
    "plt.xlabel('Number of characters', fontsize=15)\n",
    "plt.ylabel('Probability', fontsize=15)"
   ]
  },
  {
   "cell_type": "markdown",
   "id": "237b786f",
   "metadata": {},
   "source": [
    "#### Word level histogram"
   ]
  },
  {
   "cell_type": "code",
   "execution_count": 12,
   "id": "0f1b21a4",
   "metadata": {},
   "outputs": [],
   "source": [
    "word_level_train_dist = train_qna.apply(\n",
    "    lambda x : len(x.split(' '))\n",
    ")\n",
    "\n",
    "word_level_evaluation_dist = evaluation_qna.apply(\n",
    "    lambda x : len(x.split(' '))\n",
    ")"
   ]
  },
  {
   "cell_type": "code",
   "execution_count": 16,
   "id": "33c5f8a7",
   "metadata": {},
   "outputs": [
    {
     "data": {
      "text/plain": [
       "Text(0, 0.5, 'Probability')"
      ]
     },
     "execution_count": 16,
     "metadata": {},
     "output_type": "execute_result"
    },
    {
     "data": {
      "image/png": "[encoded data removed]",
      "text/plain": [
       "<Figure size 1500x500 with 1 Axes>"
      ]
     },
     "metadata": {},
     "output_type": "display_data"
    }
   ],
   "source": [
    "plt.figure(figsize=(15, 5))\n",
    "plt.hist(\n",
    "    word_level_train_dist, bins=50, range=[0, 50], color=pal[2], label='train',\n",
    ")\n",
    "\n",
    "plt.hist(\n",
    "    word_level_evaluation_dist, bins=50, range=[0, 50], \n",
    "    color=pal[1], alpha=0.5, label='test'\n",
    ")\n",
    "\n",
    "plt.title('Word level normalised distribution for train and evaluation-qna')\n",
    "plt.legend()\n",
    "plt.xlabel('Number of characters', fontsize=15)\n",
    "plt.ylabel('Probability', fontsize=15)"
   ]
  },
  {
   "cell_type": "markdown",
   "id": "32946250",
   "metadata": {},
   "source": [
    "TODO: Apply Normalization for these graphs"
   ]
  },
  {
   "cell_type": "markdown",
   "id": "1f11a464",
   "metadata": {},
   "source": [
    "#### Inference\n",
    "\n",
    "The character and word level distribution are similar to each other and sort of skewed. Although the width of the distribution is same, the height of test dist is > height of train."
   ]
  },
  {
   "cell_type": "markdown",
   "id": "ce077c00",
   "metadata": {},
   "source": [
    "**Pointers**\n",
    "\n",
    "- For **Character level distribution** The **Train dist**, most questions ranges between 15-75 characters. Where as the the **Evaluation dist** most question ranges 15-120 characters long. \n",
    "\n",
    "\n",
    "- Similarly for **Word level distribution**, The **Train dist**, questions are about 5 to 15 words long where as the **Evaluation dist**, it is arounf 25 words long, similar to the behaviour of character level distribution"
   ]
  }
 ],
 "metadata": {
  "kernelspec": {
   "display_name": "Python 3 (ipykernel)",
   "language": "python",
   "name": "python3"
  },
  "language_info": {
   "codemirror_mode": {
    "name": "ipython",
    "version": 3
   },
   "file_extension": ".py",
   "mimetype": "text/x-python",
   "name": "python",
   "nbconvert_exporter": "python",
   "pygments_lexer": "ipython3",
   "version": "3.9.15"
  }
 },
 "nbformat": 4,
 "nbformat_minor": 5
}
